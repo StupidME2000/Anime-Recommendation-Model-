{
 "metadata": {
  "kernelspec": {
   "language": "python",
   "display_name": "Python 3",
   "name": "python3"
  },
  "language_info": {
   "pygments_lexer": "ipython3",
   "nbconvert_exporter": "python",
   "version": "3.6.4",
   "file_extension": ".py",
   "codemirror_mode": {
    "name": "ipython",
    "version": 3
   },
   "name": "python",
   "mimetype": "text/x-python"
  }
 },
 "nbformat_minor": 4,
 "nbformat": 4,
 "cells": [
  {
   "cell_type": "markdown",
   "source": [
    "# <p style=\"padding:10px;background-color:#0f4c5c;margin:0;color:white;font-family:newtimeroman;font-size:150%;text-align:center;border-radius: 15px 50px;overflow:hidden;font-weight:500\">Anime Ratings Analysis & Recommender System</p>\n",
    "\n",
    "<p style=\"text-align:center; \">\n",
    "<img src=\"https://cdn.domestika.org/c_fill,dpr_auto,f_auto,h_630,q_auto,w_1200/v1644566275/blog-post-open-graph-covers/000/006/034/6034-original.jpg?1644566275\" style='width: 600px; height: 300px;'>\n",
    "</p>\n",
    "\n",
    "\n",
    "<p style=\"text-align:justify; \">\n",
    "    \n",
    "Every streaming content has its own viewers and each content has it's rating. Viewers leave some good ratings for the content if they like it. But where does it apply? Viewers can spend hours scrolling through hundreds, sometimes thousands of anime's but never getting a content they like. Businesses need to provide suggestions based on viewers likings and needs in order to create a better streaming environment that boosts revenue and increases the time spent on a website.\n",
    "</p> \n",
    "\n",
    "\n",
    "<a id='top'></a>\n",
    "<div class=\"list-group\" id=\"list-tab\" role=\"tablist\">\n",
    "<p style=\"padding:10px;background-color:orange;margin:0;color:black;font-family:newtimeroman;font-size:130%;text-align:center;border-radius: 15px 50px;overflow:hidden;font-weight:500\">Table Of Contents</p>   \n",
    "    \n",
    "\n",
    "    \n",
    "|No  | Contents |No  | Contents  |\n",
    "|:---| :---     |:---| :----     |\n",
    "|1   | [<font color=\"#0f4c5c\"> Importing Libraries</font>](#1)                   |9   | [<font color=\"#0f4c5c\"> Overall Anime Ratings</font>](#9)   |     \n",
    "|2   | [<font color=\"#0f4c5c\"> About Dataset</font>](#2)                         |10  | [<font color=\"#0f4c5c\"> Top Animes Based On Ratings</font>](#10)|      \n",
    "|3   | [<font color=\"#0f4c5c\"> Basic Exploration</font>](#3)                     |11  | [<font color=\"#0f4c5c\"> Category-wise Anime Ratings Distribution</font>](#11)   |    \n",
    "|4   | [<font color=\"#0f4c5c\"> Dataset Summary</font>](#4)                       |12  | [<font color=\"#0f4c5c\"> Anime Genres</font>](#12)    |       \n",
    "|5   | [<font color=\"#0f4c5c\"> Digging Deeper</font>](#5)      |13  | [<font color=\"#0f4c5c\"> Final Data Preprocessing</font>](#13)  |     \n",
    "|6   | [<font color=\"#0f4c5c\"> Custom Palette For Visualization</font>](#6)              |14  | [<font color=\"#0f4c5c\"> Collaborative Recommender</font>](#14)     |     \n",
    "|7   | [<font color=\"#0f4c5c\"> Top Anime Community</font>](#7)      |15  | [<font color=\"#0f4c5c\"> Content Based Recommender</font>](#15)  |     \n",
    "|8   | [<font color=\"#0f4c5c\"> Anime Category</font>](#8)              |16  | [<font color=\"#0f4c5c\"> Thank You</font>](#16)     |     \n",
    "   \n",
    "\n",
    "   "
   ],
   "metadata": {}
  },
  {
   "cell_type": "markdown",
   "source": [
    "<a id=\"1\"></a>\n",
    "# <p style=\"padding:10px;background-color:orange;margin:0;color:black;font-family:newtimeroman;font-size:100%;text-align:center;border-radius: 15px 50px;overflow:hidden;font-weight:500\">Importing Libraries</p>"
   ],
   "metadata": {}
  },
  {
   "cell_type": "code",
   "source": [
    "import numpy as np\n",
    "import pandas as pd\n",
    "import matplotlib.pyplot as plt\n",
    "import seaborn as sns\n",
    "\n",
    "import warnings\n",
    "warnings.filterwarnings('ignore')"
   ],
   "metadata": {
    "_kg_hide-input": true,
    "execution": {
     "iopub.status.busy": "2022-11-30T15:18:07.804232Z",
     "iopub.execute_input": "2022-11-30T15:18:07.805121Z",
     "iopub.status.idle": "2022-11-30T15:18:09.002457Z",
     "shell.execute_reply.started": "2022-11-30T15:18:07.805018Z",
     "shell.execute_reply": "2022-11-30T15:18:09.001363Z"
    },
    "trusted": true
   },
   "execution_count": null,
   "outputs": []
  },
  {
   "cell_type": "markdown",
   "source": [
    "<a id=\"2\"></a>\n",
    "# <p style=\"padding:10px;background-color:orange;margin:0;color:black;font-family:newtimeroman;font-size:100%;text-align:center;border-radius: 15px 50px;overflow:hidden;font-weight:500\">About Dataset</p>"
   ],
   "metadata": {}
  },
  {
   "cell_type": "markdown",
   "source": [
    "This dataset contains information on user preference data from 73,516 users on 12,294 anime. Each user is able to add anime to their completed list and give it a rating and this dataset is a compilation of those ratings.\n",
    "\n",
    "**anime.csv**\n",
    "\n",
    "* **anime_id :** myanimelist.net's unique id identifying an anime.\n",
    "* **name :** full name of anime.\n",
    "* **genre :** comma separated list of genres for this anime.\n",
    "* **type :** movie, TV, OVA, etc.\n",
    "* **episodes :** how many episodes in this show. (1 if movie).\n",
    "* **rating :** average rating out of 10 for this anime.\n",
    "* **members :** number of community members that are in this anime's\n",
    "\"group\".\n",
    "\n",
    "**rating.csv**\n",
    "\n",
    "* **user_id :** non identifiable randomly generated user id.\n",
    "* **anime_id :** the anime that this user has rated.\n",
    "* **rating :** rating out of 10 this user has assigned (-1 if the user watched it but didn't assign a rating)."
   ],
   "metadata": {}
  },
  {
   "cell_type": "code",
   "source": [
    "anime = pd.read_csv(\"anime.csv\")\n",
    "rating = pd.read_csv(\"rating.csv\")"
   ],
   "metadata": {
    "_kg_hide-input": true,
    "execution": {
     "iopub.status.busy": "2022-11-30T15:18:16.453659Z",
     "iopub.execute_input": "2022-11-30T15:18:16.454053Z",
     "iopub.status.idle": "2022-11-30T15:18:19.608168Z",
     "shell.execute_reply.started": "2022-11-30T15:18:16.454021Z",
     "shell.execute_reply": "2022-11-30T15:18:19.606885Z"
    },
    "trusted": true
   },
   "execution_count": null,
   "outputs": []
  },
  {
   "cell_type": "markdown",
   "source": [
    "<a id=\"3\"></a>\n",
    "# <p style=\"padding:10px;background-color:orange;margin:0;color:black;font-family:newtimeroman;font-size:100%;text-align:center;border-radius: 15px 50px;overflow:hidden;font-weight:500\">Basic Exploration</p>\n",
    "\n",
    "\n",
    "**Let's have a glimpse of the anime dataset.**"
   ],
   "metadata": {}
  },
  {
   "cell_type": "code",
   "source": [
    "print(f\"Shape of The Anime Dataset : {anime.shape}\")\n",
    "print(f\"\\nGlimpse of The Dataset :\")\n",
    "anime.head().style.set_properties(**{\"background-color\": \"#2a9d8f\",\"color\":\"white\",\"border\": \"1.5px  solid black\"})"
   ],
   "metadata": {
    "_kg_hide-input": true,
    "execution": {
     "iopub.status.busy": "2022-11-30T15:18:24.875284Z",
     "iopub.execute_input": "2022-11-30T15:18:24.87573Z",
     "iopub.status.idle": "2022-11-30T15:18:24.96601Z",
     "shell.execute_reply.started": "2022-11-30T15:18:24.875695Z",
     "shell.execute_reply": "2022-11-30T15:18:24.964881Z"
    },
    "trusted": true
   },
   "execution_count": null,
   "outputs": []
  },
  {
   "cell_type": "code",
   "source": [
    "print(f\"Informations About Anime Dataset :\\n\")\n",
    "print(anime.info())"
   ],
   "metadata": {
    "_kg_hide-input": true,
    "execution": {
     "iopub.status.busy": "2022-11-30T15:18:29.163675Z",
     "iopub.execute_input": "2022-11-30T15:18:29.164337Z",
     "iopub.status.idle": "2022-11-30T15:18:29.192203Z",
     "shell.execute_reply.started": "2022-11-30T15:18:29.1643Z",
     "shell.execute_reply": "2022-11-30T15:18:29.190268Z"
    },
    "trusted": true
   },
   "execution_count": null,
   "outputs": []
  },
  {
   "cell_type": "markdown",
   "source": [
    "**Let's have a glimpse of the rating dataset.**"
   ],
   "metadata": {}
  },
  {
   "cell_type": "code",
   "source": [
    "print(f\"Shape of The Rating Dataset : {rating.shape}\")\n",
    "print(f\"\\nGlimpse of The Dataset :\")\n",
    "rating.head().style.set_properties(**{\"background-color\": \"#2a9d8f\",\"color\":\"white\",\"border\": \"1.5px  solid black\"})"
   ],
   "metadata": {
    "_kg_hide-input": true,
    "execution": {
     "iopub.status.busy": "2022-11-30T15:18:45.004706Z",
     "iopub.execute_input": "2022-11-30T15:18:45.005111Z",
     "iopub.status.idle": "2022-11-30T15:18:45.024866Z",
     "shell.execute_reply.started": "2022-11-30T15:18:45.005073Z",
     "shell.execute_reply": "2022-11-30T15:18:45.022157Z"
    },
    "trusted": true
   },
   "execution_count": null,
   "outputs": []
  },
  {
   "cell_type": "code",
   "source": [
    "print(f\"Informations About Rating Dataset :\\n\")\n",
    "print(rating.info())"
   ],
   "metadata": {
    "_kg_hide-input": true,
    "execution": {
     "iopub.status.busy": "2022-11-30T15:18:47.564756Z",
     "iopub.execute_input": "2022-11-30T15:18:47.565221Z",
     "iopub.status.idle": "2022-11-30T15:18:47.581694Z",
     "shell.execute_reply.started": "2022-11-30T15:18:47.565186Z",
     "shell.execute_reply": "2022-11-30T15:18:47.580482Z"
    },
    "trusted": true
   },
   "execution_count": null,
   "outputs": []
  },
  {
   "cell_type": "markdown",
   "source": [
    "<a id=\"4\"></a>\n",
    "# <p style=\"padding:10px;background-color:orange;margin:0;color:black;font-family:newtimeroman;font-size:100%;text-align:center;border-radius: 15px 50px;overflow:hidden;font-weight:500\">Dataset Summary</p>\n"
   ],
   "metadata": {}
  },
  {
   "cell_type": "code",
   "source": [
    "print(f\"Summary of The Anime Dataset :\")\n",
    "anime.describe().T.style.set_properties(**{\"background-color\": \"#2a9d8f\",\"color\":\"white\",\"border\": \"1.5px  solid black\"})"
   ],
   "metadata": {
    "_kg_hide-input": true,
    "execution": {
     "iopub.status.busy": "2022-11-30T15:18:51.786783Z",
     "iopub.execute_input": "2022-11-30T15:18:51.78723Z",
     "iopub.status.idle": "2022-11-30T15:18:51.827343Z",
     "shell.execute_reply.started": "2022-11-30T15:18:51.787196Z",
     "shell.execute_reply": "2022-11-30T15:18:51.825962Z"
    },
    "trusted": true
   },
   "execution_count": null,
   "outputs": []
  },
  {
   "cell_type": "code",
   "source": [
    "anime.describe(include=object).T.style.set_properties(**{\"background-color\": \"#2a9d8f\",\"color\":\"white\",\"border\": \"1.5px  solid black\"})"
   ],
   "metadata": {
    "_kg_hide-input": true,
    "execution": {
     "iopub.status.busy": "2022-11-30T15:18:54.765598Z",
     "iopub.execute_input": "2022-11-30T15:18:54.766103Z",
     "iopub.status.idle": "2022-11-30T15:18:54.824195Z",
     "shell.execute_reply.started": "2022-11-30T15:18:54.766066Z",
     "shell.execute_reply": "2022-11-30T15:18:54.822456Z"
    },
    "trusted": true
   },
   "execution_count": null,
   "outputs": []
  },
  {
   "cell_type": "code",
   "source": [
    "print(\"Null Values of Anime Dataset :\")\n",
    "anime.isna().sum().to_frame().T.style.set_properties(**{\"background-color\": \"#2a9d8f\",\"color\":\"white\",\"border\": \"1.5px  solid black\"})"
   ],
   "metadata": {
    "_kg_hide-input": true,
    "execution": {
     "iopub.status.busy": "2022-11-30T15:18:57.293756Z",
     "iopub.execute_input": "2022-11-30T15:18:57.294337Z",
     "iopub.status.idle": "2022-11-30T15:18:57.32681Z",
     "shell.execute_reply.started": "2022-11-30T15:18:57.294287Z",
     "shell.execute_reply": "2022-11-30T15:18:57.325411Z"
    },
    "trusted": true
   },
   "execution_count": null,
   "outputs": []
  },
  {
   "cell_type": "code",
   "source": [
    "print(\"After Dropping, Null Values of Anime Dataset :\")\n",
    "anime.dropna(axis = 0, inplace = True)\n",
    "anime.isna().sum().to_frame().T.style.set_properties(**{\"background-color\": \"#2a9d8f\",\"color\":\"white\",\"border\": \"1.5px  solid black\"})"
   ],
   "metadata": {
    "_kg_hide-input": true,
    "execution": {
     "iopub.status.busy": "2022-11-30T15:19:01.155792Z",
     "iopub.execute_input": "2022-11-30T15:19:01.156236Z",
     "iopub.status.idle": "2022-11-30T15:19:01.19169Z",
     "shell.execute_reply.started": "2022-11-30T15:19:01.1562Z",
     "shell.execute_reply": "2022-11-30T15:19:01.189955Z"
    },
    "trusted": true
   },
   "execution_count": null,
   "outputs": []
  },
  {
   "cell_type": "code",
   "source": [
    "dup_anime = anime[anime.duplicated()].shape[0]\n",
    "print(f\"There are {dup_anime} duplicate entries among {anime.shape[0]} entries in anime dataset.\")"
   ],
   "metadata": {
    "_kg_hide-input": true,
    "execution": {
     "iopub.status.busy": "2022-11-30T15:19:04.19181Z",
     "iopub.execute_input": "2022-11-30T15:19:04.192212Z",
     "iopub.status.idle": "2022-11-30T15:19:04.213789Z",
     "shell.execute_reply.started": "2022-11-30T15:19:04.192181Z",
     "shell.execute_reply": "2022-11-30T15:19:04.212549Z"
    },
    "trusted": true
   },
   "execution_count": null,
   "outputs": []
  },
  {
   "cell_type": "code",
   "source": [
    "print(f\"Summary of The Rating Dataset :\")\n",
    "rating.describe().T.style.set_properties(**{\"background-color\": \"#2a9d8f\",\"color\":\"white\",\"border\": \"1.5px  solid black\"})"
   ],
   "metadata": {
    "_kg_hide-input": true,
    "execution": {
     "iopub.status.busy": "2022-11-30T15:19:07.544556Z",
     "iopub.execute_input": "2022-11-30T15:19:07.544997Z",
     "iopub.status.idle": "2022-11-30T15:19:08.359149Z",
     "shell.execute_reply.started": "2022-11-30T15:19:07.544963Z",
     "shell.execute_reply": "2022-11-30T15:19:08.357956Z"
    },
    "trusted": true
   },
   "execution_count": null,
   "outputs": []
  },
  {
   "cell_type": "code",
   "source": [
    "print(\"Null Values of Rating Dataset :\")\n",
    "rating.isna().sum().to_frame().T.style.set_properties(**{\"background-color\": \"#2a9d8f\",\"color\":\"white\",\"border\": \"1.5px  solid black\"})"
   ],
   "metadata": {
    "_kg_hide-input": true,
    "execution": {
     "iopub.status.busy": "2022-11-30T15:19:11.547985Z",
     "iopub.execute_input": "2022-11-30T15:19:11.548424Z",
     "iopub.status.idle": "2022-11-30T15:19:11.596504Z",
     "shell.execute_reply.started": "2022-11-30T15:19:11.548388Z",
     "shell.execute_reply": "2022-11-30T15:19:11.595262Z"
    },
    "trusted": true
   },
   "execution_count": null,
   "outputs": []
  },
  {
   "cell_type": "code",
   "source": [
    "dup_rating = rating[rating.duplicated()].shape[0]\n",
    "print(f\"There are {dup_rating} duplicate entries among {rating.shape[0]} entries in rating dataset.\")\n",
    "\n",
    "rating.drop_duplicates(keep='first',inplace=True)\n",
    "print(f\"\\nAfter removing duplicate entries there are {rating.shape[0]} entries in this dataset.\")"
   ],
   "metadata": {
    "_kg_hide-input": true,
    "execution": {
     "iopub.status.busy": "2022-11-30T15:19:14.703963Z",
     "iopub.execute_input": "2022-11-30T15:19:14.704456Z",
     "iopub.status.idle": "2022-11-30T15:19:18.691519Z",
     "shell.execute_reply.started": "2022-11-30T15:19:14.704416Z",
     "shell.execute_reply": "2022-11-30T15:19:18.690336Z"
    },
    "trusted": true
   },
   "execution_count": null,
   "outputs": []
  },
  {
   "cell_type": "markdown",
   "source": [
    "<a id=\"5\"></a>\n",
    "# <p style=\"padding:10px;background-color:orange;margin:0;color:black;font-family:newtimeroman;font-size:100%;text-align:center;border-radius: 15px 50px;overflow:hidden;font-weight:500\">Digging Deeper</p>\n",
    "\n",
    "\n",
    "Let's merge the **anime** and **rating** datasets."
   ],
   "metadata": {}
  },
  {
   "cell_type": "code",
   "source": [
    "fulldata = pd.merge(anime,rating,on=\"anime_id\",suffixes= [None, \"_user\"])\n",
    "fulldata = fulldata.rename(columns={\"rating_user\": \"user_rating\"})\n",
    "\n",
    "print(f\"Shape of The Merged Dataset : {fulldata.shape}\")\n",
    "print(f\"\\nGlimpse of The Merged Dataset :\")\n",
    "\n",
    "fulldata.head().style.set_properties(**{\"background-color\": \"#2a9d8f\",\"color\":\"white\",\"border\": \"1.5px  solid black\"})"
   ],
   "metadata": {
    "_kg_hide-input": true,
    "execution": {
     "iopub.status.busy": "2022-11-30T15:19:23.801366Z",
     "iopub.execute_input": "2022-11-30T15:19:23.802161Z",
     "iopub.status.idle": "2022-11-30T15:19:26.540232Z",
     "shell.execute_reply.started": "2022-11-30T15:19:23.802119Z",
     "shell.execute_reply": "2022-11-30T15:19:26.538978Z"
    },
    "trusted": true
   },
   "execution_count": null,
   "outputs": []
  },
  {
   "cell_type": "markdown",
   "source": [
    "<a id=\"6\"></a>\n",
    "# <p style=\"padding:10px;background-color:orange;margin:0;color:black;font-family:newtimeroman;font-size:100%;text-align:center;border-radius: 15px 50px;overflow:hidden;font-weight:500\">Custom Palette For Visualization</p>"
   ],
   "metadata": {}
  },
  {
   "cell_type": "code",
   "source": [
    "sns.set_style(\"white\")\n",
    "sns.set_context(\"poster\",font_scale = .7)\n",
    "\n",
    "palette = [\"#1d7874\",\"#679289\",\"#f4c095\",\"#ee2e31\",\"#ffb563\",\"#918450\",\"#f85e00\",\"#a41623\",\"#9a031e\",\"#d6d6d6\",\"#ffee32\",\"#ffd100\",\"#333533\",\"#202020\"]\n",
    "\n",
    "# sns.palplot(sns.color_palette(palette))\n",
    "# plt.show()"
   ],
   "metadata": {
    "_kg_hide-input": true,
    "execution": {
     "iopub.status.busy": "2022-11-30T15:19:33.988245Z",
     "iopub.execute_input": "2022-11-30T15:19:33.988664Z",
     "iopub.status.idle": "2022-11-30T15:19:33.996946Z",
     "shell.execute_reply.started": "2022-11-30T15:19:33.988632Z",
     "shell.execute_reply": "2022-11-30T15:19:33.995807Z"
    },
    "trusted": true
   },
   "execution_count": null,
   "outputs": []
  },
  {
   "cell_type": "markdown",
   "source": [
    "<a id=\"7\"></a>\n",
    "# <p style=\"padding:10px;background-color:orange;margin:0;color:black;font-family:newtimeroman;font-size:100%;text-align:center;border-radius: 15px 50px;overflow:hidden;font-weight:500\">Top Anime Community</p>\n"
   ],
   "metadata": {}
  },
  {
   "cell_type": "code",
   "source": [
    "top_anime = fulldata.copy()\n",
    "top_anime.drop_duplicates(subset =\"name\", keep = \"first\", inplace = True)\n",
    "top_anime_temp1 = top_anime.sort_values([\"members\"],ascending=False)\n",
    "\n",
    "plt.subplots(figsize=(20,8))\n",
    "p = sns.barplot(x=top_anime_temp1[\"name\"][:14],y=top_anime_temp1[\"members\"],palette=palette, saturation=1, edgecolor = \"#1c1c1c\", linewidth = 2)\n",
    "p.axes.set_title(\"\\nTop Anime Community\\n\", fontsize=25)\n",
    "plt.ylabel(\"Total Member\" , fontsize = 20)\n",
    "plt.xlabel(\"\\nAnime Name\" , fontsize = 20)\n",
    "# plt.yscale(\"log\")\n",
    "plt.xticks(rotation = 90)\n",
    "for container in p.containers:\n",
    "    p.bar_label(container,label_type = \"center\",padding = 6,size = 15,color = \"black\",rotation = 90,\n",
    "    bbox={\"boxstyle\": \"round\", \"pad\": 0.6, \"facecolor\": \"orange\", \"edgecolor\": \"black\", \"alpha\": 1})\n",
    "\n",
    "sns.despine(left=True, bottom=True)\n",
    "plt.show()"
   ],
   "metadata": {
    "_kg_hide-input": true,
    "execution": {
     "iopub.status.busy": "2022-11-30T15:19:38.868353Z",
     "iopub.execute_input": "2022-11-30T15:19:38.868785Z",
     "iopub.status.idle": "2022-11-30T15:19:41.016628Z",
     "shell.execute_reply.started": "2022-11-30T15:19:38.868751Z",
     "shell.execute_reply": "2022-11-30T15:19:41.015752Z"
    },
    "trusted": true
   },
   "execution_count": null,
   "outputs": []
  },
  {
   "cell_type": "markdown",
   "source": [
    "**Insights:**\n",
    "\n",
    "* **Death Note** wears the crown for highest community members followed by **Shingeki no Kyojin** and **Sword Art Online**"
   ],
   "metadata": {}
  },
  {
   "cell_type": "markdown",
   "source": [
    "<a id=\"8\"></a>\n",
    "# <p style=\"padding:10px;background-color:orange;margin:0;color:black;font-family:newtimeroman;font-size:100%;text-align:center;border-radius: 15px 50px;overflow:hidden;font-weight:500\">Anime Category</p>\n"
   ],
   "metadata": {}
  },
  {
   "cell_type": "code",
   "source": [
    "print(\"Anime Categories :\")\n",
    "top_anime_temp1[\"type\"].value_counts().to_frame().T.style.set_properties(**{\"background-color\": \"#2a9d8f\",\"color\":\"white\",\"border\": \"1.5px  solid black\"})"
   ],
   "metadata": {
    "_kg_hide-input": true,
    "execution": {
     "iopub.status.busy": "2022-11-30T15:19:48.012076Z",
     "iopub.execute_input": "2022-11-30T15:19:48.012658Z",
     "iopub.status.idle": "2022-11-30T15:19:48.039687Z",
     "shell.execute_reply.started": "2022-11-30T15:19:48.01261Z",
     "shell.execute_reply": "2022-11-30T15:19:48.038288Z"
    },
    "trusted": true
   },
   "execution_count": null,
   "outputs": []
  },
  {
   "cell_type": "code",
   "source": [
    "plt.subplots(figsize=(12, 12))\n",
    "\n",
    "labels = \"TV\",\"OVA\",\"Movie\",\"Special\",\"ONA\",\"Music\"\n",
    "size = 0.5\n",
    "\n",
    "wedges, texts, autotexts = plt.pie([len(top_anime_temp1[top_anime_temp1[\"type\"]==\"TV\"][\"type\"]),\n",
    "                                    len(top_anime_temp1[top_anime_temp1[\"type\"]==\"OVA\"][\"type\"]),\n",
    "                                    len(top_anime_temp1[top_anime_temp1[\"type\"]==\"Movie\"][\"type\"]),\n",
    "                                    len(top_anime_temp1[top_anime_temp1[\"type\"]==\"Special\"][\"type\"]),\n",
    "                                    len(top_anime_temp1[top_anime_temp1[\"type\"]==\"ONA\"][\"type\"]),\n",
    "                                    len(top_anime_temp1[top_anime_temp1[\"type\"]==\"Music\"][\"type\"])],\n",
    "                                    explode = (0,0,0,0,0,0),\n",
    "                                    textprops=dict(size= 20, color= \"white\"),\n",
    "                                    autopct=\"%.2f%%\", \n",
    "                                    pctdistance = 0.7,\n",
    "                                    radius=.9, \n",
    "                                    colors = palette, \n",
    "                                    shadow = True,\n",
    "                                    wedgeprops=dict(width = size, edgecolor = \"#1c1c1c\", \n",
    "                                    linewidth = 4),\n",
    "                                    startangle = 0)\n",
    "\n",
    "plt.legend(wedges, labels, title=\"Category\",loc=\"center left\",bbox_to_anchor=(1, 0, 0.5, 1))\n",
    "plt.title(\"\\nAnime Categories Distribution\",fontsize=20)\n",
    "plt.show()"
   ],
   "metadata": {
    "_kg_hide-input": true,
    "execution": {
     "iopub.status.busy": "2022-11-30T15:19:50.857625Z",
     "iopub.execute_input": "2022-11-30T15:19:50.858012Z",
     "iopub.status.idle": "2022-11-30T15:19:51.212889Z",
     "shell.execute_reply.started": "2022-11-30T15:19:50.857981Z",
     "shell.execute_reply": "2022-11-30T15:19:51.211773Z"
    },
    "trusted": true
   },
   "execution_count": null,
   "outputs": []
  },
  {
   "cell_type": "code",
   "source": [
    "plt.subplots(figsize = (20,8))\n",
    "p = sns.countplot(x = top_anime_temp1[\"type\"], order = top_anime_temp1[\"type\"].value_counts().index, palette = palette, saturation = 1, edgecolor = \"#1c1c1c\", linewidth = 3)\n",
    "p.axes.set_title(\"\\nAnime Categories Hub\\n\" ,fontsize = 25)\n",
    "plt.ylabel(\"Total Anime\" ,fontsize = 20)\n",
    "plt.xlabel(\"\\nAnime Category\" ,fontsize = 20)\n",
    "plt.xticks(rotation = 0)\n",
    "for container in p.containers:\n",
    "    p.bar_label(container,label_type = \"center\",padding = 10,size = 25,color = \"black\",rotation = 0,\n",
    "    bbox={\"boxstyle\": \"round\", \"pad\": 0.4, \"facecolor\": \"orange\", \"edgecolor\": \"black\", \"linewidth\" : 3, \"alpha\": 1})\n",
    "\n",
    "sns.despine(left = True, bottom = True)\n",
    "plt.show()"
   ],
   "metadata": {
    "_kg_hide-input": true,
    "execution": {
     "iopub.status.busy": "2022-11-30T15:19:57.996383Z",
     "iopub.execute_input": "2022-11-30T15:19:57.997291Z",
     "iopub.status.idle": "2022-11-30T15:19:58.323291Z",
     "shell.execute_reply.started": "2022-11-30T15:19:57.997252Z",
     "shell.execute_reply": "2022-11-30T15:19:58.322126Z"
    },
    "trusted": true
   },
   "execution_count": null,
   "outputs": []
  },
  {
   "cell_type": "markdown",
   "source": [
    "**Insights:**\n",
    "\n",
    "* 3402 animes are aired on TV which is 30.48% of total animes\n",
    "* 2111 animes are streamed as Movie which is 18.91% of total animes\n",
    "* 3090 animes are streamed as OVA which is 27.69% of total animes also greater than ONA which includes 526 animes that is 4.71% of total animes."
   ],
   "metadata": {}
  },
  {
   "cell_type": "markdown",
   "source": [
    "<a id=\"9\"></a>\n",
    "# <p style=\"padding:10px;background-color:orange;margin:0;color:black;font-family:newtimeroman;font-size:100%;text-align:center;border-radius: 15px 50px;overflow:hidden;font-weight:500\">Overall Anime Ratings</p>\n"
   ],
   "metadata": {}
  },
  {
   "cell_type": "code",
   "source": [
    "top_anime_temp2 = top_anime.sort_values([\"rating\"],ascending=False)\n",
    "\n",
    "_, axs = plt.subplots(2,1,figsize=(20,16),sharex=False,sharey=False)\n",
    "plt.tight_layout(pad=6.0)\n",
    "\n",
    "sns.histplot(top_anime_temp2[\"rating\"],color=palette[11],kde=True,ax=axs[0],bins=20,alpha=1,fill=True,edgecolor=palette[12])\n",
    "axs[0].lines[0].set_color(palette[12])\n",
    "axs[0].set_title(\"\\nAnime's Average Ratings Distribution\\n\",fontsize = 25)\n",
    "axs[0].set_xlabel(\"Rating\\n\", fontsize = 20)\n",
    "axs[0].set_ylabel(\"Total\", fontsize = 20)\n",
    "\n",
    "sns.histplot(fulldata[\"user_rating\"],color=palette[12],kde=True,ax=axs[1],bins=\"auto\",alpha=1,fill=True)\n",
    "axs[1].lines[0].set_color(palette[11])\n",
    "# axs[1].set_yscale(\"log\")\n",
    "axs[1].set_title(\"\\n\\n\\nUsers Anime Ratings Distribution\\n\",fontsize = 25)\n",
    "axs[1].set_xlabel(\"Rating\", fontsize = 20)\n",
    "axs[1].set_ylabel(\"Total\", fontsize = 20)\n",
    "\n",
    "sns.despine(left=True, bottom=True)\n",
    "plt.show()"
   ],
   "metadata": {
    "_kg_hide-input": true,
    "execution": {
     "iopub.status.busy": "2022-11-30T15:20:03.937271Z",
     "iopub.execute_input": "2022-11-30T15:20:03.937733Z",
     "iopub.status.idle": "2022-11-30T15:20:41.347724Z",
     "shell.execute_reply.started": "2022-11-30T15:20:03.937695Z",
     "shell.execute_reply": "2022-11-30T15:20:41.346468Z"
    },
    "trusted": true
   },
   "execution_count": null,
   "outputs": []
  },
  {
   "cell_type": "markdown",
   "source": [
    "**Insights:**\n",
    "\n",
    "* Most of the Anime ratings are spread between 5.5 - 8.0\n",
    "* Most of the users ratings are spread between 6.0 - 10.0\n",
    "* The mode of the users ratings distribution is around 7.0 - 8.0\n",
    "* Both the distribution are left skewed\n",
    "* Users rating(-1) is an outlier in ratings of users which can be discarded"
   ],
   "metadata": {}
  },
  {
   "cell_type": "markdown",
   "source": [
    "<a id=\"10\"></a>\n",
    "# <p style=\"padding:10px;background-color:orange;margin:0;color:black;font-family:newtimeroman;font-size:100%;text-align:center;border-radius: 15px 50px;overflow:hidden;font-weight:500\">Top Animes Based On Ratings</p>\n"
   ],
   "metadata": {}
  },
  {
   "cell_type": "code",
   "source": [
    "plt.subplots(figsize=(20,8))\n",
    "p = sns.barplot(x=top_anime_temp2[\"name\"][:14],y=top_anime_temp2[\"rating\"],palette=palette, saturation=1, edgecolor = \"#1c1c1c\", linewidth = 2)\n",
    "p.axes.set_title(\"\\nTop Animes Based On Ratings\\n\",fontsize = 25)\n",
    "plt.ylabel(\"Average Rating\",fontsize = 20)\n",
    "plt.xlabel(\"\\nAnime Title\",fontsize = 20)\n",
    "# plt.yscale(\"log\")\n",
    "plt.xticks(rotation = 90)\n",
    "for container in p.containers:\n",
    "    p.bar_label(container,label_type = \"center\",padding = 10,size = 15,color = \"black\",rotation = 0,\n",
    "    bbox={\"boxstyle\": \"round\", \"pad\": 0.6, \"facecolor\": \"orange\", \"edgecolor\": \"black\", \"alpha\": 1})\n",
    "\n",
    "sns.despine(left=True, bottom=True)\n",
    "plt.show()"
   ],
   "metadata": {
    "_kg_hide-input": true,
    "execution": {
     "iopub.status.busy": "2022-11-30T15:20:59.75843Z",
     "iopub.execute_input": "2022-11-30T15:20:59.759421Z",
     "iopub.status.idle": "2022-11-30T15:21:00.281865Z",
     "shell.execute_reply.started": "2022-11-30T15:20:59.759374Z",
     "shell.execute_reply": "2022-11-30T15:21:00.280945Z"
    },
    "trusted": true
   },
   "execution_count": null,
   "outputs": []
  },
  {
   "cell_type": "markdown",
   "source": [
    "**Insights:**\n",
    "\n",
    "* **Mogura no Motoro** wears the crown for highest rating followed by **Kimi no Na wa.** and **Fullmetal Alchemist: Brotherhood**"
   ],
   "metadata": {}
  },
  {
   "cell_type": "markdown",
   "source": [
    "<a id=\"11\"></a>\n",
    "# <p style=\"padding:10px;background-color:orange;margin:0;color:black;font-family:newtimeroman;font-size:100%;text-align:center;border-radius: 15px 50px;overflow:hidden;font-weight:500\">Category-wise Anime Ratings Distribution</p>\n"
   ],
   "metadata": {}
  },
  {
   "cell_type": "code",
   "source": [
    "print(\"Let's explore the ratings distribution of TV category :\\n\")\n",
    "\n",
    "_, axs = plt.subplots(1,2,figsize=(20,8),sharex=False,sharey=False)\n",
    "plt.tight_layout(pad=4.0)\n",
    "\n",
    "sns.histplot(top_anime_temp2[top_anime_temp2[\"type\"]==\"TV\"][\"rating\"],color=palette[0],kde=True,ax=axs[0],bins=20,alpha=1,fill=True,edgecolor=palette[12])\n",
    "axs[0].lines[0].set_color(palette[11])\n",
    "axs[0].set_title(\"\\nAnime's Average Ratings Distribution [Category : TV]\\n\",fontsize=20)\n",
    "axs[0].set_xlabel(\"Rating\")\n",
    "axs[0].set_ylabel(\"Total\")\n",
    "\n",
    "sns.histplot(fulldata[fulldata[\"type\"]==\"TV\"][\"user_rating\"],color=palette[0],kde=True,ax=axs[1],bins=\"auto\",alpha=1,fill=True,edgecolor=palette[12])\n",
    "axs[1].lines[0].set_color(palette[11])\n",
    "# axs[1].set_yscale(\"log\")\n",
    "axs[1].set_title(\"\\nUsers Anime Ratings Distribution [Category : TV]\\n\",fontsize=20)\n",
    "axs[1].set_xlabel(\"Rating\")\n",
    "axs[1].set_ylabel(\"Total\")\n",
    "\n",
    "sns.despine(left=True, bottom=True)\n",
    "plt.show()"
   ],
   "metadata": {
    "_kg_hide-input": true,
    "execution": {
     "iopub.status.busy": "2022-11-30T15:21:06.841545Z",
     "iopub.execute_input": "2022-11-30T15:21:06.84225Z",
     "iopub.status.idle": "2022-11-30T15:21:33.740699Z",
     "shell.execute_reply.started": "2022-11-30T15:21:06.842211Z",
     "shell.execute_reply": "2022-11-30T15:21:33.739791Z"
    },
    "trusted": true
   },
   "execution_count": null,
   "outputs": []
  },
  {
   "cell_type": "markdown",
   "source": [
    "**Insights:**\n",
    "\n",
    "* Most of the Anime ratings are spread between 6.0 - 8.0\n",
    "* Most of the users ratings are spread between 6.0 - 10.0\n",
    "* The mode of the users ratings distribution is around 7.0 - 9.0\n",
    "* Both the distribution are left skewed\n",
    "* Users rating(-1) is an outlier in ratings of users which can be discarded"
   ],
   "metadata": {}
  },
  {
   "cell_type": "code",
   "source": [
    "print(\"Let's explore the ratings distribution of OVA category :\\n\")\n",
    "\n",
    "_, axs = plt.subplots(1,2,figsize=(20,8),sharex=False,sharey=False)\n",
    "plt.tight_layout(pad=4.0)\n",
    "\n",
    "sns.histplot(top_anime_temp2[top_anime_temp2[\"type\"]==\"OVA\"][\"rating\"],color=palette[1],kde=True,ax=axs[0],bins=20,alpha=1,fill=True,edgecolor=palette[12])\n",
    "axs[0].lines[0].set_color(palette[11])\n",
    "axs[0].set_title(\"\\nAnime's Average Ratings Distribution [Category : OVA]\\n\",fontsize=20)\n",
    "axs[0].set_xlabel(\"Rating\")\n",
    "axs[0].set_ylabel(\"Total\")\n",
    "\n",
    "sns.histplot(fulldata[fulldata[\"type\"]==\"OVA\"][\"user_rating\"],color=palette[1],kde=True,ax=axs[1],bins=\"auto\",alpha=1,fill=True,edgecolor=palette[12])\n",
    "axs[1].lines[0].set_color(palette[11])\n",
    "# axs[1].set_yscale(\"log\")\n",
    "axs[1].set_title(\"\\nUsers Anime Ratings Distribution [Category : OVA]\\n\",fontsize=20)\n",
    "axs[1].set_xlabel(\"Rating\")\n",
    "axs[1].set_ylabel(\"Total\")\n",
    "\n",
    "sns.despine(left=True, bottom=True)\n",
    "plt.show()"
   ],
   "metadata": {
    "_kg_hide-input": true,
    "execution": {
     "iopub.status.busy": "2022-11-30T15:21:43.281321Z",
     "iopub.execute_input": "2022-11-30T15:21:43.28243Z",
     "iopub.status.idle": "2022-11-30T15:21:48.009987Z",
     "shell.execute_reply.started": "2022-11-30T15:21:43.282386Z",
     "shell.execute_reply": "2022-11-30T15:21:48.008719Z"
    },
    "trusted": true
   },
   "execution_count": null,
   "outputs": []
  },
  {
   "cell_type": "markdown",
   "source": [
    "**Insights:**\n",
    "\n",
    "* Most of the Anime ratings are spread between 5.5 - 7.5\n",
    "* Most of the users ratings are spread between 5.5 - 10.0\n",
    "* The mode of the users ratings distribution is around 7.0 - 8.0\n",
    "* Both the distribution are left skewed\n",
    "* Users rating(-1) is an outlier in ratings of users which can be discarded"
   ],
   "metadata": {}
  },
  {
   "cell_type": "code",
   "source": [
    "print(\"Let's explore the ratings distribution of MOVIE category :\\n\")\n",
    "\n",
    "_, axs = plt.subplots(1,2,figsize=(20,8),sharex=False,sharey=False)\n",
    "plt.tight_layout(pad=4.0)\n",
    "\n",
    "sns.histplot(top_anime_temp2[top_anime_temp2[\"type\"]==\"Movie\"][\"rating\"],color=palette[2],kde=True,ax=axs[0],bins=20,alpha=1,fill=True,edgecolor=palette[12])\n",
    "axs[0].lines[0].set_color(palette[3])\n",
    "axs[0].set_title(\"\\nAnime's Average Ratings Distribution [Category : Movie]\\n\",fontsize=20)\n",
    "axs[0].set_xlabel(\"Rating\")\n",
    "axs[0].set_ylabel(\"Total\")\n",
    "\n",
    "sns.histplot(fulldata[fulldata[\"type\"]==\"Movie\"][\"user_rating\"],color=palette[2],kde=True,ax=axs[1],bins=\"auto\",alpha=1,fill=True,edgecolor=palette[12])\n",
    "axs[1].lines[0].set_color(palette[3])\n",
    "# axs[1].set_yscale(\"log\")\n",
    "axs[1].set_title(\"\\nUsers Anime Ratings Distribution [Category : Movie]\\n\",fontsize=20)\n",
    "axs[1].set_xlabel(\"Rating\")\n",
    "axs[1].set_ylabel(\"Total\")\n",
    "\n",
    "sns.despine(left=True, bottom=True)\n",
    "plt.show()"
   ],
   "metadata": {
    "_kg_hide-input": true,
    "execution": {
     "iopub.status.busy": "2022-11-30T15:21:53.496655Z",
     "iopub.execute_input": "2022-11-30T15:21:53.497111Z",
     "iopub.status.idle": "2022-11-30T15:21:59.342097Z",
     "shell.execute_reply.started": "2022-11-30T15:21:53.497064Z",
     "shell.execute_reply": "2022-11-30T15:21:59.340899Z"
    },
    "trusted": true
   },
   "execution_count": null,
   "outputs": []
  },
  {
   "cell_type": "markdown",
   "source": [
    "**Insights:**\n",
    "\n",
    "* Most of the Anime ratings are spread between 4.5 - 8.5\n",
    "* Most of the users ratings are spread between 5.0 - 10.0\n",
    "* The mode of the users ratings distribution is around 7.0 - 9.0\n",
    "* Both the distribution are left skewed\n",
    "* Users rating(-1) is an outlier in ratings of users which can be discarded"
   ],
   "metadata": {}
  },
  {
   "cell_type": "code",
   "source": [
    "print(\"Let's explore the ratings distribution of SPECIAL category :\\n\")\n",
    "\n",
    "_, axs = plt.subplots(1,2,figsize=(20,8),sharex=False,sharey=False)\n",
    "plt.tight_layout(pad=4.0)\n",
    "\n",
    "sns.histplot(top_anime_temp2[top_anime_temp2[\"type\"]==\"Special\"][\"rating\"],color=palette[3],kde=True,ax=axs[0],bins=20,alpha=1,fill=True,edgecolor=palette[12])\n",
    "axs[0].lines[0].set_color(palette[11])\n",
    "axs[0].set_title(\"\\nAnime's Average Ratings Distribution [Category : Special]\\n\",fontsize=20)\n",
    "axs[0].set_xlabel(\"Rating\")\n",
    "axs[0].set_ylabel(\"Total\")\n",
    "\n",
    "sns.histplot(fulldata[fulldata[\"type\"]==\"Special\"][\"user_rating\"],color=palette[3],kde=True,ax=axs[1],bins=\"auto\",alpha=1,fill=True,edgecolor=palette[12])\n",
    "axs[1].lines[0].set_color(palette[11])\n",
    "# axs[1].set_yscale(\"log\")\n",
    "axs[1].set_title(\"\\nUsers Anime Ratings Distribution [Category : Special]\\n\",fontsize=20)\n",
    "axs[1].set_xlabel(\"Rating\")\n",
    "axs[1].set_ylabel(\"Total\")\n",
    "\n",
    "sns.despine(left=True, bottom=True)\n",
    "plt.show()"
   ],
   "metadata": {
    "_kg_hide-input": true,
    "execution": {
     "iopub.status.busy": "2022-11-30T15:22:04.237453Z",
     "iopub.execute_input": "2022-11-30T15:22:04.23787Z",
     "iopub.status.idle": "2022-11-30T15:22:07.685889Z",
     "shell.execute_reply.started": "2022-11-30T15:22:04.237837Z",
     "shell.execute_reply": "2022-11-30T15:22:07.683993Z"
    },
    "trusted": true
   },
   "execution_count": null,
   "outputs": []
  },
  {
   "cell_type": "markdown",
   "source": [
    "**Insights:**\n",
    "\n",
    "* Most of the Anime ratings are spread between 5.5 - 8.0\n",
    "* Most of the users ratings are spread between 5.0 - 10.0\n",
    "* The mode of the users ratings distribution is around 7.0 - 8.0\n",
    "* Both the distribution are left skewed\n",
    "* Users rating(-1) is an outlier in ratings of users which can be discarded"
   ],
   "metadata": {}
  },
  {
   "cell_type": "code",
   "source": [
    "print(\"Let's explore the ratings distribution of ONA category :\\n\")\n",
    "\n",
    "_, axs = plt.subplots(1,2,figsize=(20,8),sharex=False,sharey=False)\n",
    "plt.tight_layout(pad=4.0)\n",
    "\n",
    "sns.histplot(top_anime_temp2[top_anime_temp2[\"type\"]==\"ONA\"][\"rating\"],color=palette[4],kde=True,ax=axs[0],bins=20,alpha=1,fill=True,edgecolor=palette[12])\n",
    "axs[0].lines[0].set_color(palette[3])\n",
    "axs[0].set_title(\"\\nAnime's Average Ratings Distribution [Category : ONA]\\n\",fontsize=20)\n",
    "axs[0].set_xlabel(\"Rating\")\n",
    "axs[0].set_ylabel(\"Total\")\n",
    "\n",
    "sns.histplot(fulldata[fulldata[\"type\"]==\"ONA\"][\"user_rating\"],color=palette[4],kde=True,ax=axs[1],bins=\"auto\",alpha=1,fill=True,edgecolor=palette[12])\n",
    "axs[1].lines[0].set_color(palette[3])\n",
    "# axs[1].set_yscale(\"log\")\n",
    "axs[1].set_title(\"\\nUsers Anime Ratings Distribution [Category : ONA]\\n\",fontsize=20)\n",
    "axs[1].set_xlabel(\"Rating\")\n",
    "axs[1].set_ylabel(\"Total\")\n",
    "\n",
    "sns.despine(left=True, bottom=True)\n",
    "plt.show()"
   ],
   "metadata": {
    "_kg_hide-input": true,
    "execution": {
     "iopub.status.busy": "2022-11-30T15:22:12.828419Z",
     "iopub.execute_input": "2022-11-30T15:22:12.8296Z",
     "iopub.status.idle": "2022-11-30T15:22:14.413212Z",
     "shell.execute_reply.started": "2022-11-30T15:22:12.829541Z",
     "shell.execute_reply": "2022-11-30T15:22:14.412067Z"
    },
    "trusted": true
   },
   "execution_count": null,
   "outputs": []
  },
  {
   "cell_type": "markdown",
   "source": [
    "**Insights:**\n",
    "\n",
    "* Most of the Anime ratings are spread between 4.0 - 7.0\n",
    "* Most of the users ratings are spread between 5.0 - 10.0\n",
    "* The mode of the users ratings distribution is around 7.0 - 8.0\n",
    "* Both the distribution are left skewed\n",
    "* Users rating(-1) is an outlier in ratings of users which can be discarded"
   ],
   "metadata": {}
  },
  {
   "cell_type": "code",
   "source": [
    "print(\"Let's explore the ratings distribution of MUSIC category :\\n\")\n",
    "\n",
    "_, axs = plt.subplots(1,2,figsize=(20,8),sharex=False,sharey=False)\n",
    "plt.tight_layout(pad=4.0)\n",
    "\n",
    "sns.histplot(top_anime_temp2[top_anime_temp2[\"type\"]==\"Music\"][\"rating\"],color=palette[5],kde=True,ax=axs[0],bins=20,alpha=1,fill=True,edgecolor=palette[12])\n",
    "axs[0].lines[0].set_color(palette[11])\n",
    "axs[0].set_title(\"\\nAnime's Average Ratings Distribution [Category : Music]\\n\",fontsize=20)\n",
    "axs[0].set_xlabel(\"Rating\")\n",
    "axs[0].set_ylabel(\"Total\")\n",
    "\n",
    "sns.histplot(fulldata[fulldata[\"type\"]==\"Music\"][\"user_rating\"],color=palette[5],kde=True,ax=axs[1],bins=\"auto\",alpha=1,fill=True,edgecolor=palette[12])\n",
    "axs[1].lines[0].set_color(palette[11])\n",
    "# axs[1].set_yscale(\"log\")\n",
    "axs[1].set_title(\"\\nUsers Anime Ratings Distribution [Category : Music]\\n\",fontsize=20)\n",
    "axs[1].set_xlabel(\"Rating\")\n",
    "axs[1].set_ylabel(\"Total\")\n",
    "\n",
    "sns.despine(left=True, bottom=True)\n",
    "plt.show()"
   ],
   "metadata": {
    "_kg_hide-input": true,
    "execution": {
     "iopub.status.busy": "2022-11-30T15:22:20.889843Z",
     "iopub.execute_input": "2022-11-30T15:22:20.89034Z",
     "iopub.status.idle": "2022-11-30T15:22:22.487526Z",
     "shell.execute_reply.started": "2022-11-30T15:22:20.890301Z",
     "shell.execute_reply": "2022-11-30T15:22:22.485692Z"
    },
    "trusted": true
   },
   "execution_count": null,
   "outputs": []
  },
  {
   "cell_type": "markdown",
   "source": [
    "**Insights:**\n",
    "\n",
    "* Most of the Anime ratings are spread between 4.0 - 7.5\n",
    "* Most of the users ratings are spread between 5.0 - 10.0\n",
    "* The mode of the users ratings distribution is around 6.5 - 8.0\n",
    "* Both the distribution are left skewed\n",
    "* Users rating(-1) is an outlier in ratings of users which can be discarded"
   ],
   "metadata": {}
  },
  {
   "cell_type": "markdown",
   "source": [
    "<a id=\"12\"></a>\n",
    "# <p style=\"padding:10px;background-color:orange;margin:0;color:black;font-family:newtimeroman;font-size:100%;text-align:center;border-radius: 15px 50px;overflow:hidden;font-weight:500\">Anime Genres</p>\n"
   ],
   "metadata": {}
  },
  {
   "cell_type": "code",
   "source": [
    "top_anime_temp3 = top_anime[[\"genre\"]]\n",
    "top_anime_temp3[\"genre\"] = top_anime_temp3[\"genre\"].str.split(\", | , | ,\")\n",
    "top_anime_temp3 = top_anime_temp3.explode(\"genre\")\n",
    "top_anime_temp3[\"genre\"] = top_anime_temp3[\"genre\"].str.title()\n",
    "\n",
    "print(f'Total unique genres are {len(top_anime_temp3[\"genre\"].unique())}')\n",
    "print(f'Occurances of unique genres :')\n",
    "top_anime_temp3[\"genre\"].value_counts().to_frame().T.style.set_properties(**{\"background-color\": \"#2a9d8f\",\"color\":\"white\",\"border\": \"1.5px  solid black\"})"
   ],
   "metadata": {
    "_kg_hide-input": true,
    "execution": {
     "iopub.status.busy": "2022-11-30T15:22:28.756463Z",
     "iopub.execute_input": "2022-11-30T15:22:28.757016Z",
     "iopub.status.idle": "2022-11-30T15:22:28.886759Z",
     "shell.execute_reply.started": "2022-11-30T15:22:28.756973Z",
     "shell.execute_reply": "2022-11-30T15:22:28.884823Z"
    },
    "trusted": true
   },
   "execution_count": null,
   "outputs": []
  },
  {
   "cell_type": "code",
   "source": [
    "from wordcloud import WordCloud\n",
    "\n",
    "wordcloud = WordCloud(width = 800, height = 250, background_color =\"black\",colormap =\"RdYlGn\",\n",
    "                      max_font_size=100, stopwords =None,repeat= True).generate(top_anime[\"genre\"].str.cat(sep=\", | , | ,\"))\n",
    "\n",
    "print(\"let's explore how genre's wordcloud looks like\\n\")\n",
    "plt.figure(figsize = (20, 8),facecolor = \"#ffd100\") \n",
    "plt.imshow(wordcloud)\n",
    "plt.axis(\"off\")\n",
    "plt.margins(x = 0, y = 0)\n",
    "plt.tight_layout(pad = 0) \n",
    "plt.show()"
   ],
   "metadata": {
    "_kg_hide-input": true,
    "execution": {
     "iopub.status.busy": "2022-11-30T15:22:35.152795Z",
     "iopub.execute_input": "2022-11-30T15:22:35.153459Z",
     "iopub.status.idle": "2022-11-30T15:22:36.427988Z",
     "shell.execute_reply.started": "2022-11-30T15:22:35.153411Z",
     "shell.execute_reply": "2022-11-30T15:22:36.426577Z"
    },
    "trusted": true
   },
   "execution_count": null,
   "outputs": []
  },
  {
   "cell_type": "markdown",
   "source": [
    "<a id=\"13\"></a>\n",
    "# <p style=\"padding:10px;background-color:orange;margin:0;color:black;font-family:newtimeroman;font-size:100%;text-align:center;border-radius: 15px 50px;overflow:hidden;font-weight:500\">Final Data Preprocessing</p>\n"
   ],
   "metadata": {}
  },
  {
   "cell_type": "code",
   "source": [
    "data = fulldata.copy()\n",
    "data[\"user_rating\"].replace(to_replace = -1 , value = np.nan ,inplace=True)\n",
    "data = data.dropna(axis = 0)\n",
    "print(\"Null values after final pre-processing :\")\n",
    "data.isna().sum().to_frame().T.style.set_properties(**{\"background-color\": \"#2a9d8f\",\"color\":\"white\",\"border\": \"1.5px  solid black\"})"
   ],
   "metadata": {
    "_kg_hide-input": true,
    "execution": {
     "iopub.status.busy": "2022-11-30T15:22:43.699717Z",
     "iopub.execute_input": "2022-11-30T15:22:43.700456Z",
     "iopub.status.idle": "2022-11-30T15:22:48.038432Z",
     "shell.execute_reply.started": "2022-11-30T15:22:43.700406Z",
     "shell.execute_reply": "2022-11-30T15:22:48.036784Z"
    },
    "trusted": true
   },
   "execution_count": null,
   "outputs": []
  },
  {
   "cell_type": "markdown",
   "source": [
    "There are a lot of users who have rated only once, even if they have rated 5 animes, it can't be considered as a valuable record for recommendation. So we will consider minimum 50 ratings by the user as a threshold value."
   ],
   "metadata": {}
  },
  {
   "cell_type": "code",
   "source": [
    "selected_users = data[\"user_id\"].value_counts()\n",
    "data = data[data[\"user_id\"].isin(selected_users[selected_users >= 50].index)]"
   ],
   "metadata": {
    "_kg_hide-input": true,
    "execution": {
     "iopub.status.busy": "2022-11-30T15:23:03.847118Z",
     "iopub.execute_input": "2022-11-30T15:23:03.84755Z",
     "iopub.status.idle": "2022-11-30T15:23:04.769759Z",
     "shell.execute_reply.started": "2022-11-30T15:23:03.847515Z",
     "shell.execute_reply": "2022-11-30T15:23:04.768439Z"
    },
    "trusted": true
   },
   "execution_count": null,
   "outputs": []
  },
  {
   "cell_type": "markdown",
   "source": [
    "We will create a pivot table consists of rows as title and columns as user id, this will help us to create sparse matrix which can be very helpful in finding the cosine similarity."
   ],
   "metadata": {}
  },
  {
   "cell_type": "code",
   "source": [
    "data_pivot_temp = data.pivot_table(index=\"name\",columns=\"user_id\",values=\"user_rating\").fillna(0)\n",
    "data_pivot_temp.head()"
   ],
   "metadata": {
    "_kg_hide-input": true,
    "execution": {
     "iopub.status.busy": "2022-11-30T15:23:09.804502Z",
     "iopub.execute_input": "2022-11-30T15:23:09.805319Z",
     "iopub.status.idle": "2022-11-30T15:23:25.797201Z",
     "shell.execute_reply.started": "2022-11-30T15:23:09.805267Z",
     "shell.execute_reply": "2022-11-30T15:23:25.795819Z"
    },
    "trusted": true
   },
   "execution_count": null,
   "outputs": []
  },
  {
   "cell_type": "markdown",
   "source": [
    "We have got many japanese or special character symbols in anime name. Let's remove those using this function"
   ],
   "metadata": {}
  },
  {
   "cell_type": "code",
   "source": [
    "import re\n",
    "def text_cleaning(text):\n",
    "    text = re.sub(r'&quot;', '', text)\n",
    "    text = re.sub(r'.hack//', '', text)\n",
    "    text = re.sub(r'&#039;', '', text)\n",
    "    text = re.sub(r'A&#039;s', '', text)\n",
    "    text = re.sub(r'I&#039;', 'I\\'', text)\n",
    "    text = re.sub(r'&amp;', 'and', text)\n",
    "    \n",
    "    return text\n",
    "\n",
    "data[\"name\"] = data[\"name\"].apply(text_cleaning)"
   ],
   "metadata": {
    "_kg_hide-input": true,
    "execution": {
     "iopub.status.busy": "2022-11-30T15:23:33.742725Z",
     "iopub.execute_input": "2022-11-30T15:23:33.743775Z",
     "iopub.status.idle": "2022-11-30T15:24:14.501078Z",
     "shell.execute_reply.started": "2022-11-30T15:23:33.743735Z",
     "shell.execute_reply": "2022-11-30T15:24:14.50007Z"
    },
    "trusted": true
   },
   "execution_count": null,
   "outputs": []
  },
  {
   "cell_type": "code",
   "source": [
    "data_pivot = data.pivot_table(index=\"name\",columns=\"user_id\",values=\"user_rating\").fillna(0)\n",
    "print(\"After Cleaning the animes names, let's see how it looks like.\")\n",
    "data_pivot.head()"
   ],
   "metadata": {
    "_kg_hide-input": true,
    "execution": {
     "iopub.status.busy": "2022-11-30T15:24:22.62377Z",
     "iopub.execute_input": "2022-11-30T15:24:22.624184Z",
     "iopub.status.idle": "2022-11-30T15:24:37.580703Z",
     "shell.execute_reply.started": "2022-11-30T15:24:22.62415Z",
     "shell.execute_reply": "2022-11-30T15:24:37.579602Z"
    },
    "trusted": true
   },
   "execution_count": null,
   "outputs": []
  },
  {
   "cell_type": "markdown",
   "source": [
    "<a id=\"14\"></a>\n",
    "# <p style=\"padding:10px;background-color:orange;margin:0;color:black;font-family:newtimeroman;font-size:100%;text-align:center;border-radius: 15px 50px;overflow:hidden;font-weight:500\">Collaborative Recommender</p>\n"
   ],
   "metadata": {}
  },
  {
   "cell_type": "markdown",
   "source": [
    "Collaborative filtering is a technique that can filter out items that a user might like on the basis of reactions by similar users. It works by searching a large group of people and finding a smaller set of users with tastes similar to a particular user. We will use Cosine similarity which is a metric used to measure how similar the documents are irrespective of their size. Mathematically, it measures the cosine of the angle between two vectors projected in a multi-dimensional space. The cosine similarity is advantageous because even if the two similar documents are far apart by the Euclidean distance (due to the size of the document), chances are they may still be oriented closer together. The smaller the angle, higher the cosine similarity."
   ],
   "metadata": {}
  },
  {
   "cell_type": "code",
   "source": [
    "from scipy.sparse import csr_matrix\n",
    "from sklearn.neighbors import NearestNeighbors\n",
    "\n",
    "data_matrix = csr_matrix(data_pivot.values)\n",
    "\n",
    "model_knn = NearestNeighbors(metric = \"cosine\", algorithm = \"brute\")\n",
    "model_knn.fit(data_matrix)\n",
    "\n",
    "query_no = np.random.choice(data_pivot.shape[0]) # random anime title and finding recommendation\n",
    "print(f\"We will find recommendation for {query_no} no anime which is {data_pivot.index[query_no]}.\")\n",
    "distances, indices = model_knn.kneighbors(data_pivot.iloc[query_no,:].values.reshape(1, -1), n_neighbors = 6)"
   ],
   "metadata": {
    "_kg_hide-input": true,
    "execution": {
     "iopub.status.busy": "2022-11-30T15:25:50.08367Z",
     "iopub.execute_input": "2022-11-30T15:25:50.084232Z",
     "iopub.status.idle": "2022-11-30T15:25:57.635291Z",
     "shell.execute_reply.started": "2022-11-30T15:25:50.084086Z",
     "shell.execute_reply": "2022-11-30T15:25:57.63402Z"
    },
    "trusted": true
   },
   "execution_count": null,
   "outputs": []
  },
  {
   "cell_type": "code",
   "source": [
    "no = []\n",
    "name = []\n",
    "distance = []\n",
    "rating = []\n",
    "\n",
    "for i in range(0, len(distances.flatten())):\n",
    "    if i == 0:\n",
    "        print(f\"Recommendations for {data_pivot.index[query_no]} viewers :\\n\")\n",
    "    else:\n",
    "        #  print(f\"{i}: {data_pivot.index[indices.flatten()[i]]} , with distance of {distances.flatten()[i]}\")        \n",
    "        no.append(i)\n",
    "        name.append(data_pivot.index[indices.flatten()[i]])\n",
    "        distance.append(distances.flatten()[i])\n",
    "        rating.append(*anime[anime[\"name\"]==data_pivot.index[indices.flatten()[i]]][\"rating\"].values)\n",
    "\n",
    "dic = {\"No\" : no, \"Anime Name\" : name, \"Rating\" : rating}\n",
    "recommendation = pd.DataFrame(data = dic)\n",
    "recommendation.set_index(\"No\", inplace = True)\n",
    "recommendation.style.set_properties(**{\"background-color\": \"#2a9d8f\",\"color\":\"white\",\"border\": \"1.5px  solid black\"})"
   ],
   "metadata": {
    "_kg_hide-input": true,
    "execution": {
     "iopub.status.busy": "2022-11-30T15:26:02.793068Z",
     "iopub.execute_input": "2022-11-30T15:26:02.793472Z",
     "iopub.status.idle": "2022-11-30T15:26:02.821764Z",
     "shell.execute_reply.started": "2022-11-30T15:26:02.793439Z",
     "shell.execute_reply": "2022-11-30T15:26:02.82089Z"
    },
    "trusted": true
   },
   "execution_count": null,
   "outputs": []
  },
  {
   "cell_type": "markdown",
   "source": [
    "<a id=\"15\"></a>\n",
    "# <p style=\"padding:10px;background-color:orange;margin:0;color:black;font-family:newtimeroman;font-size:100%;text-align:center;border-radius: 15px 50px;overflow:hidden;font-weight:500\">Content Based Recommender</p>\n"
   ],
   "metadata": {}
  },
  {
   "cell_type": "markdown",
   "source": [
    "Content based filtering recommends items based on a comparison between the content of the items and a user profile. The content of each item is represented as a set of descriptors or terms, typically the words that occur in a document. A content based recommender works with data that the user provides, either explicitly (rating) or implicitly (clicking on a link). Based on that data, a user profile is generated which is then used to make suggestions for the user. As the user provides more inputs or takes actions on the recommendations, the engine becomes more and more accurate.\n",
    "\n",
    "**Term Frequency(TF) & Inverse Document Frequency(IDF)**\n",
    "\n",
    "TF is simply the frequency of a word in a document. IDF is the inverse of the document frequency among the whole corpus of documents. TF-IDF is used mainly because of two reasons: Suppose we search for “the rise of analytics” on Google. It is certain that “the” will occur more frequently than “analytics” but the relative importance of analytics is higher than the search query point of view. In such cases, TF-IDF weighting negates the effect of high frequency words in determining the importance of an item (document).\n",
    "Here we are going to use it on the genre of animes so that we can recommend contents to the users based on genres.\n"
   ],
   "metadata": {}
  },
  {
   "cell_type": "code",
   "source": [
    "from sklearn.feature_extraction.text import TfidfVectorizer\n",
    "\n",
    "tfv = TfidfVectorizer(min_df=3, max_features=None, strip_accents=\"unicode\", analyzer=\"word\",\n",
    "                      token_pattern=r\"\\w{1,}\", ngram_range=(1, 3), stop_words = \"english\")\n",
    "\n",
    "rec_data = fulldata.copy()\n",
    "rec_data.drop_duplicates(subset =\"name\", keep = \"first\", inplace = True)\n",
    "rec_data.reset_index(drop = True, inplace = True)\n",
    "genres = rec_data[\"genre\"].str.split(\", | , | ,\").astype(str)\n",
    "tfv_matrix = tfv.fit_transform(genres)"
   ],
   "metadata": {
    "_kg_hide-input": true,
    "execution": {
     "iopub.status.busy": "2022-11-30T15:26:42.186046Z",
     "iopub.execute_input": "2022-11-30T15:26:42.186774Z",
     "iopub.status.idle": "2022-11-30T15:26:44.097987Z",
     "shell.execute_reply.started": "2022-11-30T15:26:42.186712Z",
     "shell.execute_reply": "2022-11-30T15:26:44.095671Z"
    },
    "trusted": true
   },
   "execution_count": null,
   "outputs": []
  },
  {
   "cell_type": "markdown",
   "source": [
    "\n",
    "Also, scikit-learn already provides pairwise metrics (a.k.a. kernels in machine learning parlance) that work for both dense and sparse representations of vector collections. Here we need to assign 1 for recommended anime and 0 for not recommended anime. We will use sigmoid kernel here."
   ],
   "metadata": {}
  },
  {
   "cell_type": "code",
   "source": [
    "from sklearn.metrics.pairwise import sigmoid_kernel\n",
    "\n",
    "sig = sigmoid_kernel(tfv_matrix, tfv_matrix)      # Computing sigmoid kernel\n",
    "\n",
    "rec_indices = pd.Series(rec_data.index, index = rec_data[\"name\"]).drop_duplicates()\n",
    "\n",
    "\n",
    "# Recommendation Function\n",
    "def give_recommendation(title, sig = sig):\n",
    "    \n",
    "    idx = rec_indices[title] # Getting index corresponding to original_title\n",
    "\n",
    "    sig_score = list(enumerate(sig[idx]))  # Getting pairwsie similarity scores \n",
    "    sig_score = sorted(sig_score, key=lambda x: x[1], reverse=True)\n",
    "    sig_score = sig_score[1:11]\n",
    "    anime_indices = [i[0] for i in sig_score]\n",
    "     \n",
    "    # Top 10 most similar movies\n",
    "    rec_dic = {\"No\" : range(1,11), \n",
    "               \"Anime Name\" : anime[\"name\"].iloc[anime_indices].values,\n",
    "               \"Rating\" : anime[\"rating\"].iloc[anime_indices].values}\n",
    "    dataframe = pd.DataFrame(data = rec_dic)\n",
    "    dataframe.set_index(\"No\", inplace = True)\n",
    "    \n",
    "    print(f\"Recommendations for {title} viewers :\\n\")\n",
    "    \n",
    "    return dataframe.style.set_properties(**{\"background-color\": \"#2a9d8f\",\"color\":\"white\",\"border\": \"1.5px  solid black\"})"
   ],
   "metadata": {
    "_kg_hide-input": true,
    "execution": {
     "iopub.status.busy": "2022-11-30T15:26:49.618553Z",
     "iopub.execute_input": "2022-11-30T15:26:49.619003Z",
     "iopub.status.idle": "2022-11-30T15:26:55.757686Z",
     "shell.execute_reply.started": "2022-11-30T15:26:49.618968Z",
     "shell.execute_reply": "2022-11-30T15:26:55.756418Z"
    },
    "trusted": true
   },
   "execution_count": null,
   "outputs": []
  },
  {
   "cell_type": "code",
   "source": [
    "give_recommendation(\"Naruto\")"
   ],
   "metadata": {
    "execution": {
     "iopub.status.busy": "2022-11-30T15:27:11.297091Z",
     "iopub.execute_input": "2022-11-30T15:27:11.297746Z",
     "iopub.status.idle": "2022-11-30T15:27:11.323252Z",
     "shell.execute_reply.started": "2022-11-30T15:27:11.297709Z",
     "shell.execute_reply": "2022-11-30T15:27:11.321968Z"
    },
    "trusted": true
   },
   "execution_count": null,
   "outputs": []
  },
  {
   "cell_type": "code",
   "source": [
    "give_recommendation(\"Death Note\")"
   ],
   "metadata": {
    "execution": {
     "iopub.status.busy": "2022-11-30T15:27:17.786335Z",
     "iopub.execute_input": "2022-11-30T15:27:17.787102Z",
     "iopub.status.idle": "2022-11-30T15:27:17.811146Z",
     "shell.execute_reply.started": "2022-11-30T15:27:17.787026Z",
     "shell.execute_reply": "2022-11-30T15:27:17.809819Z"
    },
    "trusted": true
   },
   "execution_count": null,
   "outputs": []
  },
  {
   "cell_type": "code",
   "source": [
    "give_recommendation(\"Mogura no Motoro\")"
   ],
   "metadata": {
    "execution": {
     "iopub.status.busy": "2022-11-30T15:27:23.339528Z",
     "iopub.execute_input": "2022-11-30T15:27:23.339992Z",
     "iopub.status.idle": "2022-11-30T15:27:23.36271Z",
     "shell.execute_reply.started": "2022-11-30T15:27:23.339954Z",
     "shell.execute_reply": "2022-11-30T15:27:23.36144Z"
    },
    "trusted": true
   },
   "execution_count": null,
   "outputs": []
  },
  {
   "cell_type": "markdown",
   "source": [
    "<a id=\"16\"></a>\n",
    "# <p style=\"padding:10px;background-color:#0f4c5c;margin:0;color:white;font-family:newtimeroman;font-size:100%;text-align:center;border-radius: 15px 50px;overflow:hidden;font-weight:500\">Thank You</p>\n"
   ],
   "metadata": {}
  }
 ]
}
